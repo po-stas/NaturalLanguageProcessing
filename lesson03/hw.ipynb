{
 "cells": [
  {
   "cell_type": "code",
   "execution_count": 2,
   "metadata": {
    "colab": {
     "base_uri": "https://localhost:8080/"
    },
    "executionInfo": {
     "elapsed": 26151,
     "status": "ok",
     "timestamp": 1617177000113,
     "user": {
      "displayName": "Roman Zakharov",
      "photoUrl": "",
      "userId": "18255168926005506833"
     },
     "user_tz": -180
    },
    "id": "wWzU9hqUomdU",
    "outputId": "c305e141-95ae-4580-a705-56e6fb186001"
   },
   "outputs": [
    {
     "name": "stderr",
     "output_type": "stream",
     "text": [
      "[nltk_data] Downloading package punkt to /home/postas/nltk_data...\n",
      "[nltk_data]   Package punkt is already up-to-date!\n",
      "[nltk_data] Downloading package stopwords to /home/postas/nltk_data...\n",
      "[nltk_data]   Package stopwords is already up-to-date!\n"
     ]
    },
    {
     "data": {
      "text/plain": [
       "True"
      ]
     },
     "execution_count": 2,
     "metadata": {},
     "output_type": "execute_result"
    }
   ],
   "source": [
    "# !pip install -q --upgrade nltk gensim bokeh pandas\n",
    "\n",
    "import nltk\n",
    "nltk.download('punkt')\n",
    "nltk.download('stopwords')"
   ]
  },
  {
   "cell_type": "code",
   "execution_count": 3,
   "metadata": {
    "colab": {
     "base_uri": "https://localhost:8080/"
    },
    "executionInfo": {
     "elapsed": 1044,
     "status": "ok",
     "timestamp": 1617177008639,
     "user": {
      "displayName": "Roman Zakharov",
      "photoUrl": "",
      "userId": "18255168926005506833"
     },
     "user_tz": -180
    },
    "id": "K-X7I7nc1gyS",
    "outputId": "f05d7662-4182-4b8d-a975-71ea8edae753"
   },
   "outputs": [],
   "source": [
    "import pandas as pd\n",
    "import numpy as np\n",
    "from nltk.tokenize import word_tokenize\n",
    "from gensim.models import Word2Vec\n",
    "from sklearn.manifold import TSNE"
   ]
  },
  {
   "cell_type": "code",
   "execution_count": 4,
   "metadata": {
    "executionInfo": {
     "elapsed": 850,
     "status": "ok",
     "timestamp": 1617177027405,
     "user": {
      "displayName": "Roman Zakharov",
      "photoUrl": "",
      "userId": "18255168926005506833"
     },
     "user_tz": -180
    },
    "id": "UoYjVExHd_OC"
   },
   "outputs": [],
   "source": [
    "import re\n",
    "from sklearn.feature_extraction.text import TfidfVectorizer\n",
    "from nltk.corpus import stopwords\n",
    "from string import punctuation"
   ]
  },
  {
   "cell_type": "markdown",
   "metadata": {
    "id": "xvqrFUS6vVhh"
   },
   "source": [
    "## Запилим пословный машинный перевод!"
   ]
  },
  {
   "cell_type": "code",
   "execution_count": 16,
   "metadata": {
    "colab": {
     "base_uri": "https://localhost:8080/"
    },
    "executionInfo": {
     "elapsed": 69794,
     "status": "ok",
     "timestamp": 1617177101176,
     "user": {
      "displayName": "Roman Zakharov",
      "photoUrl": "",
      "userId": "18255168926005506833"
     },
     "user_tz": -180
    },
    "id": "1CXcr-ypzGXg",
    "outputId": "2d8bab73-9bba-42d3-cdd4-98773c9ed6c6"
   },
   "outputs": [
    {
     "name": "stdout",
     "output_type": "stream",
     "text": [
      "Authentication successfull.\n"
     ]
    }
   ],
   "source": [
    "!wget -O ukr_rus.train.txt -qq --no-check-certificate \"https://drive.google.com/uc?export=download&id=1vAK0SWXUqei4zTimMvIhH3ufGPsbnC_O\"\n",
    "!wget -O ukr_rus.test.txt -qq --no-check-certificate \"https://drive.google.com/uc?export=download&id=1W9R2F8OeKHXruo2sicZ6FgBJUTJc8Us_\"\n",
    "!wget -O fairy_tale.txt -qq --no-check-certificate \"https://drive.google.com/uc?export=download&id=1sq8zSroFeg_afw-60OmY8RATdu_T1tej\"\n",
    "\n",
    "# Install the PyDrive wrapper & import libraries.\n",
    "# This only needs to be done once per notebook.\n",
    "# !pip install -U -q PyDrive\n",
    "\n",
    "from pydrive.auth import GoogleAuth\n",
    "from pydrive.drive import GoogleDrive\n",
    "# from google.colab import auth\n",
    "from oauth2client.client import GoogleCredentials\n",
    "\n",
    "# Authenticate and create the PyDrive client.\n",
    "# This only needs to be done once per notebook.\n",
    "# auth.authenticate_user()\n",
    "# gauth = GoogleAuth()\n",
    "# gauth.credentials = GoogleCredentials.get_application_default()\n",
    "# drive = GoogleDrive(gauth)\n",
    "\n",
    "gauth = GoogleAuth()\n",
    "gauth.LocalWebserverAuth() # client_secrets.json need to be in the same directory as the script\n",
    "drive = GoogleDrive(gauth)"
   ]
  },
  {
   "cell_type": "code",
   "execution_count": 14,
   "metadata": {},
   "outputs": [],
   "source": [
    "downloaded = drive.CreateFile({'id': '1d7OXuil646jUeDS1JNhP9XWlZogv6rbu'})\n",
    "downloaded.GetContentFile('cc.ru.300.vec.zip')"
   ]
  },
  {
   "cell_type": "code",
   "execution_count": 15,
   "metadata": {},
   "outputs": [
    {
     "name": "stdout",
     "output_type": "stream",
     "text": [
      "Archive:  cc.ru.300.vec.zip\n",
      "  inflating: cc.ru.300.vec           \n",
      "Archive:  cc.uk.300.vec.zip\n",
      "  inflating: cc.uk.300.vec           \n"
     ]
    }
   ],
   "source": [
    "downloaded = drive.CreateFile({'id': '1yAqwqgUHtMSfGS99WLGe5unSCyIXfIxi'})\n",
    "downloaded.GetContentFile('cc.uk.300.vec.zip')\n",
    "\n",
    "!unzip cc.ru.300.vec.zip\n",
    "!unzip cc.uk.300.vec.zip"
   ]
  },
  {
   "cell_type": "code",
   "execution_count": null,
   "metadata": {},
   "outputs": [],
   "source": []
  },
  {
   "cell_type": "markdown",
   "metadata": {
    "id": "7RqUeOXxws8y"
   },
   "source": [
    "Напишем простенькую реализацию модели машинного перевода.\n",
    "\n",
    "Идея основана на статье [Word Translation Without Parallel Data](https://arxiv.org/pdf/1710.04087.pdf). У авторов в репозитории еще много интересного: [https://github.com/facebookresearch/MUSE](https://github.com/facebookresearch/MUSE).\n",
    "\n",
    "А мы будем переводить с украинского на русский."
   ]
  },
  {
   "cell_type": "code",
   "execution_count": 16,
   "metadata": {
    "executionInfo": {
     "elapsed": 533797,
     "status": "ok",
     "timestamp": 1617177652467,
     "user": {
      "displayName": "Roman Zakharov",
      "photoUrl": "",
      "userId": "18255168926005506833"
     },
     "user_tz": -180
    },
    "id": "jjPj9FTRry0U"
   },
   "outputs": [],
   "source": [
    "from gensim.models import KeyedVectors\n",
    "\n",
    "ru_emb = KeyedVectors.load_word2vec_format(\"cc.ru.300.vec\")\n",
    "ua_emb = KeyedVectors.load_word2vec_format(\"cc.uk.300.vec\")"
   ]
  },
  {
   "cell_type": "code",
   "execution_count": 17,
   "metadata": {},
   "outputs": [
    {
     "data": {
      "text/plain": [
       "array([ 0.0033, -0.0322, -0.0519, -0.0808, -0.0131, -0.0468, -0.0089,\n",
       "        0.0023,  0.0817,  0.0219, -0.0041,  0.0005, -0.0114,  0.0355,\n",
       "        0.0282, -0.0401,  0.1017,  0.0431, -0.1122,  0.0133,  0.052 ,\n",
       "       -0.0478, -0.073 ,  0.0126,  0.0648,  0.0379, -0.0122, -0.0041,\n",
       "        0.024 ,  0.0135,  0.0027,  0.0064,  0.0115, -0.1203,  0.0181,\n",
       "       -0.0368, -0.0515, -0.0661, -0.0053,  0.0382, -0.0103, -0.0184,\n",
       "        0.0067,  0.0152,  0.0046,  0.067 ,  0.1035,  0.085 ,  0.0744,\n",
       "        0.0668,  0.0475,  0.0429, -0.0545,  0.0613, -0.0466, -0.0163,\n",
       "       -0.0065, -0.0271, -0.0354, -0.0168, -0.0496,  0.1036, -0.0502,\n",
       "        0.1049,  0.0574, -0.0144, -0.0651,  0.0028,  0.0014, -0.0369,\n",
       "        0.0042, -0.0156,  0.007 , -0.0171, -0.1097,  0.0022, -0.0058,\n",
       "       -0.0288, -0.0354,  0.0969,  0.0496,  0.0658,  0.0214,  0.0009,\n",
       "       -0.0617,  0.01  , -0.0261,  0.1074,  0.1178,  0.0356,  0.0596,\n",
       "        0.0118,  0.0266, -0.0037, -0.0792, -0.0205,  0.0263, -0.0313,\n",
       "       -0.0053,  0.0081,  0.0476, -0.0157,  0.0134, -0.0055,  0.08  ,\n",
       "        0.0573, -0.0992,  0.0316, -0.0739,  0.0212,  0.0062, -0.0179,\n",
       "        0.0864,  0.0006, -0.0516, -0.0292, -0.048 , -0.0309, -0.0032,\n",
       "       -0.0158,  0.0193, -0.0224, -0.0994, -0.0403, -0.042 ,  0.0412,\n",
       "        0.0894,  0.0261,  0.0406, -0.0209, -0.0471, -0.1002,  0.0425,\n",
       "        0.0204, -0.0612,  0.0324,  0.0717,  0.039 ,  0.0291,  0.0405,\n",
       "       -0.0542, -0.0679,  0.1042, -0.0137, -0.079 , -0.0215,  0.0329,\n",
       "       -0.083 , -0.0461,  0.034 ,  0.0792, -0.0346, -0.086 ,  0.0584,\n",
       "        0.078 ,  0.0211,  0.0241,  0.0118,  0.0405, -0.035 , -0.0083,\n",
       "       -0.0247, -0.0803, -0.0434, -0.0089, -0.013 ,  0.0454,  0.0559,\n",
       "        0.0404,  0.0127, -0.02  , -0.1013, -0.0504, -0.0229,  0.0509,\n",
       "       -0.0882, -0.0263, -0.0226,  0.0257, -0.0351, -0.039 , -0.041 ,\n",
       "       -0.0402,  0.0207,  0.0776,  0.0427,  0.0504, -0.0531,  0.0106,\n",
       "       -0.0006,  0.0159, -0.0112,  0.0716,  0.0392, -0.0441, -0.008 ,\n",
       "        0.0613,  0.0363, -0.0179, -0.0534,  0.0135,  0.182 , -0.0041,\n",
       "        0.062 ,  0.0386,  0.0147, -0.0442,  0.0659, -0.0685, -0.0576,\n",
       "       -0.0627, -0.0447, -0.0232, -0.063 , -0.0494, -0.0309,  0.0433,\n",
       "        0.0014, -0.0532,  0.0453,  0.0375,  0.0167,  0.008 ,  0.0167,\n",
       "        0.0613,  0.008 , -0.0519,  0.0407, -0.0013,  0.0042,  0.0046,\n",
       "        0.0459,  0.0006,  0.0082, -0.0316, -0.0253,  0.0617,  0.0027,\n",
       "        0.0354, -0.0498,  0.0708,  0.0312, -0.014 ,  0.0387, -0.1596,\n",
       "        0.0926,  0.0073, -0.0796, -0.0222, -0.0177, -0.0981, -0.0543,\n",
       "       -0.0354, -0.0234,  0.1187,  0.039 ,  0.0375, -0.0225, -0.0546,\n",
       "       -0.0424, -0.056 , -0.0415, -0.0463, -0.0199,  0.2017, -0.0416,\n",
       "        0.0831,  0.046 ,  0.0123,  0.0247,  0.0393, -0.0445,  0.147 ,\n",
       "       -0.0137, -0.0205, -0.0005,  0.0704, -0.0265, -0.0673,  0.0402,\n",
       "        0.0622,  0.0167,  0.0196, -0.004 ,  0.0292,  0.0465,  0.018 ,\n",
       "       -0.0375,  0.0502, -0.0479, -0.0069,  0.0211, -0.0874, -0.0211,\n",
       "       -0.0189, -0.0655, -0.0094, -0.0281, -0.051 ,  0.002 ],\n",
       "      dtype=float32)"
      ]
     },
     "execution_count": 17,
     "metadata": {},
     "output_type": "execute_result"
    }
   ],
   "source": [
    "ru_emb['август']"
   ]
  },
  {
   "cell_type": "markdown",
   "metadata": {
    "id": "7rGx4TXWFJ65"
   },
   "source": [
    "Посмотрим на пару серпень-август (являющихся переводом)"
   ]
  },
  {
   "cell_type": "code",
   "execution_count": 18,
   "metadata": {
    "colab": {
     "base_uri": "https://localhost:8080/"
    },
    "executionInfo": {
     "elapsed": 1386,
     "status": "ok",
     "timestamp": 1617177676608,
     "user": {
      "displayName": "Roman Zakharov",
      "photoUrl": "",
      "userId": "18255168926005506833"
     },
     "user_tz": -180
    },
    "id": "FkHer36xyh4n",
    "outputId": "e0aa13d6-02ee-4d3d-dbe1-6aad9f3cb802"
   },
   "outputs": [
    {
     "data": {
      "text/plain": [
       "[('август', 0.9999998807907104),\n",
       " ('июль', 0.9383153915405273),\n",
       " ('сентябрь', 0.9240029454231262),\n",
       " ('июнь', 0.9222574830055237),\n",
       " ('октябрь', 0.9095538258552551),\n",
       " ('ноябрь', 0.893003523349762),\n",
       " ('апрель', 0.8729087114334106),\n",
       " ('декабрь', 0.8652557730674744),\n",
       " ('март', 0.8545795679092407),\n",
       " ('февраль', 0.8401415944099426)]"
      ]
     },
     "execution_count": 18,
     "metadata": {},
     "output_type": "execute_result"
    }
   ],
   "source": [
    "ru_emb.most_similar([ru_emb[\"август\"]])"
   ]
  },
  {
   "cell_type": "code",
   "execution_count": 19,
   "metadata": {
    "colab": {
     "base_uri": "https://localhost:8080/"
    },
    "executionInfo": {
     "elapsed": 824,
     "status": "ok",
     "timestamp": 1617177689947,
     "user": {
      "displayName": "Roman Zakharov",
      "photoUrl": "",
      "userId": "18255168926005506833"
     },
     "user_tz": -180
    },
    "id": "1RSDixWvylEP",
    "outputId": "dc6fda23-f184-49ed-95cf-23f469a3f7c8"
   },
   "outputs": [
    {
     "data": {
      "text/plain": [
       "[('серпень', 1.000000238418579),\n",
       " ('липень', 0.9096441268920898),\n",
       " ('вересень', 0.9016969203948975),\n",
       " ('червень', 0.8992519974708557),\n",
       " ('жовтень', 0.8810409307479858),\n",
       " ('листопад', 0.8787633180618286),\n",
       " ('квітень', 0.8592804074287415),\n",
       " ('грудень', 0.8586863279342651),\n",
       " ('травень', 0.840811014175415),\n",
       " ('лютий', 0.8256431221961975)]"
      ]
     },
     "execution_count": 19,
     "metadata": {},
     "output_type": "execute_result"
    }
   ],
   "source": [
    "ua_emb.most_similar([ua_emb[\"серпень\"]])"
   ]
  },
  {
   "cell_type": "code",
   "execution_count": 20,
   "metadata": {
    "colab": {
     "base_uri": "https://localhost:8080/"
    },
    "executionInfo": {
     "elapsed": 981,
     "status": "ok",
     "timestamp": 1617177697715,
     "user": {
      "displayName": "Roman Zakharov",
      "photoUrl": "",
      "userId": "18255168926005506833"
     },
     "user_tz": -180
    },
    "id": "iwmm3YQ1yl1U",
    "outputId": "8369591e-4e7f-4686-c208-a9bbafbfa1fc"
   },
   "outputs": [
    {
     "data": {
      "text/plain": [
       "[('Недопустимость', 0.24435284733772278),\n",
       " ('конструктивность', 0.23293080925941467),\n",
       " ('офор', 0.23256801068782806),\n",
       " ('deteydlya', 0.23031717538833618),\n",
       " ('пресечении', 0.22632379829883575),\n",
       " ('одностороннего', 0.22608885169029236),\n",
       " ('подход', 0.22305874526500702),\n",
       " ('иболее', 0.22003725171089172),\n",
       " ('2015Александр', 0.21872766315937042),\n",
       " ('конструктивен', 0.21796569228172302)]"
      ]
     },
     "execution_count": 20,
     "metadata": {},
     "output_type": "execute_result"
    }
   ],
   "source": [
    "ru_emb.most_similar([ua_emb[\"серпень\"]])"
   ]
  },
  {
   "cell_type": "code",
   "execution_count": 21,
   "metadata": {
    "executionInfo": {
     "elapsed": 5510,
     "status": "ok",
     "timestamp": 1617177712013,
     "user": {
      "displayName": "Roman Zakharov",
      "photoUrl": "",
      "userId": "18255168926005506833"
     },
     "user_tz": -180
    },
    "id": "lAsW7oxszE_I"
   },
   "outputs": [],
   "source": [
    "def load_word_pairs(filename):\n",
    "    ua_ru_pairs = []\n",
    "    ua_vectors = []\n",
    "    ru_vectors = []\n",
    "    with open(filename, \"r\", encoding='utf8') as inpf:\n",
    "        for line in inpf:\n",
    "            ua, ru = line.rstrip().split(\"\\t\")\n",
    "            if ua not in ua_emb or ru not in ru_emb:\n",
    "                continue\n",
    "            ua_ru_pairs.append((ua, ru))\n",
    "            ua_vectors.append(ua_emb[ua])\n",
    "            ru_vectors.append(ru_emb[ru])\n",
    "    return ua_ru_pairs, np.array(ua_vectors), np.array(ru_vectors)\n",
    "\n",
    "\n",
    "ua_ru_train, X_train, Y_train = load_word_pairs(\"ukr_rus.train.txt\")\n",
    "ua_ru_test, X_test, Y_test = load_word_pairs(\"ukr_rus.test.txt\")"
   ]
  },
  {
   "cell_type": "code",
   "execution_count": null,
   "metadata": {},
   "outputs": [],
   "source": []
  },
  {
   "cell_type": "markdown",
   "metadata": {
    "id": "9z6ts7DC0XmN"
   },
   "source": [
    "### Учим маппинг из одного пространства эмбеддингов в другое\n",
    "\n",
    "У нас есть пары слов, соответствующих друг другу, и их эмбеддинги. Найдем преобразование из одного пространства в другое, чтобы приблизить известные нам слова:\n",
    "\n",
    "$$W^*= \\arg\\min_W ||WX - Y||_F, \\text{где} ||*||_F - \\text{норма Фробениуса}$$\n",
    "\n",
    "Эта функция очень похожа на линейную регрессию (без биаса).\n",
    "\n",
    "**Задание** Реализуйте её - воспользуйтесь `LinearRegression` из sklearn с `fit_intercept=False`:"
   ]
  },
  {
   "cell_type": "code",
   "execution_count": 25,
   "metadata": {
    "id": "fraTOQtu1YWI"
   },
   "outputs": [],
   "source": [
    "from sklearn.linear_model import LinearRegression\n",
    "mapping = LinearRegression(fit_intercept=False)"
   ]
  },
  {
   "cell_type": "code",
   "execution_count": 27,
   "metadata": {},
   "outputs": [
    {
     "data": {
      "text/plain": [
       "LinearRegression(fit_intercept=False)"
      ]
     },
     "execution_count": 27,
     "metadata": {},
     "output_type": "execute_result"
    }
   ],
   "source": [
    "mapping.fit(X_train, Y_train)"
   ]
  },
  {
   "cell_type": "code",
   "execution_count": 43,
   "metadata": {},
   "outputs": [
    {
     "data": {
      "text/plain": [
       "('бійка', 'драка')"
      ]
     },
     "execution_count": 43,
     "metadata": {},
     "output_type": "execute_result"
    }
   ],
   "source": [
    "ua_ru_test[10]"
   ]
  },
  {
   "cell_type": "code",
   "execution_count": 47,
   "metadata": {},
   "outputs": [
    {
     "data": {
      "text/plain": [
       "[('драка', 0.7209880352020264),\n",
       " ('потасовка', 0.6219049692153931),\n",
       " ('стычка', 0.6196291446685791),\n",
       " ('поножовщина', 0.59937983751297),\n",
       " ('перестрелка', 0.5962169170379639),\n",
       " ('бойня', 0.5959173440933228),\n",
       " ('перепалка', 0.5883157253265381),\n",
       " ('перебранка', 0.5847620368003845),\n",
       " ('пьянка', 0.567406952381134),\n",
       " ('схватка', 0.552302896976471)]"
      ]
     },
     "execution_count": 47,
     "metadata": {},
     "output_type": "execute_result"
    }
   ],
   "source": [
    "# Чему будет соответствовать слово Бiйка ))\n",
    "ru_emb.most_similar(mapping.predict([X_test[10]]))"
   ]
  },
  {
   "cell_type": "markdown",
   "metadata": {
    "id": "PrzRk3ja1b_6"
   },
   "source": [
    "Проверим, куда перейдет `серпень`:"
   ]
  },
  {
   "cell_type": "code",
   "execution_count": 53,
   "metadata": {
    "id": "Quax6HnF1aON"
   },
   "outputs": [
    {
     "data": {
      "text/plain": [
       "[('апрель', 0.854128360748291),\n",
       " ('июнь', 0.8411200046539307),\n",
       " ('март', 0.8396992087364197),\n",
       " ('сентябрь', 0.8359866738319397),\n",
       " ('февраль', 0.8329296112060547),\n",
       " ('октябрь', 0.8311845064163208),\n",
       " ('ноябрь', 0.8278921246528625),\n",
       " ('июль', 0.8234526515007019),\n",
       " ('август', 0.8120498657226562),\n",
       " ('декабрь', 0.8039001226425171)]"
      ]
     },
     "execution_count": 53,
     "metadata": {},
     "output_type": "execute_result"
    }
   ],
   "source": [
    "august = mapping.predict(ua_emb[\"серпень\"].reshape(1, -1))\n",
    "ru_emb.most_similar(august)"
   ]
  },
  {
   "cell_type": "markdown",
   "metadata": {
    "id": "ih1GLNZt1nZX"
   },
   "source": [
    "Должно получиться, что в топе содержатся разные месяцы, но август не первый.\n",
    "- А с дракой нормально все получилось... Видимо месяцы семантически близки все друг другу... \n",
    "\n",
    "Будем мерять percision top-k с k = 1, 5, 10.\n",
    "\n",
    "**Задание** Реализуйте следующую функцию:"
   ]
  },
  {
   "cell_type": "code",
   "execution_count": 88,
   "metadata": {
    "id": "JnmrLp9y2gNI"
   },
   "outputs": [],
   "source": [
    "def precision_at_K(pairs, mapped_vectors, K=1):\n",
    "    \"\"\"\n",
    "    :args:\n",
    "        pairs = list of right word pairs [(ua_word_0, ru_word_0), ...]\n",
    "        mapped_vectors = list of embeddings after mapping from source embedding space to destination embedding space\n",
    "        topn = the number of nearest neighbours in destination embedding space to choose from\n",
    "    :returns:\n",
    "        precision_val, float number, total number of words for those we can find right translation at top K.\n",
    "    \"\"\"\n",
    "    assert len(pairs) == len(mapped_vectors)\n",
    "    \n",
    "    flags = 0\n",
    "    for word, vector in zip(np.array(pairs)[:,1], mapped_vectors):\n",
    "        flags += np.isin(word, np.array(ru_emb.most_similar([vector]))[:K, 0])\n",
    "    \n",
    "    precision_val = flags / len(pairs)\n",
    "    return precision_val"
   ]
  },
  {
   "cell_type": "code",
   "execution_count": 89,
   "metadata": {
    "id": "-1NIvhSH2olG"
   },
   "outputs": [],
   "source": [
    "assert precision_at_K([(\"серпень\", \"август\")], august, K=5) == 0.0\n",
    "assert precision_at_K([(\"серпень\", \"август\")], august, K=9) == 1.0\n",
    "assert precision_at_K([(\"серпень\", \"август\")], august, K=10) == 1.0"
   ]
  },
  {
   "cell_type": "code",
   "execution_count": 90,
   "metadata": {
    "id": "9Ml_w1Tl2r7Y"
   },
   "outputs": [],
   "source": [
    "assert precision_at_K(ua_ru_test, X_test) == 0.0\n",
    "assert precision_at_K(ua_ru_test, Y_test) == 1.0"
   ]
  },
  {
   "cell_type": "code",
   "execution_count": 93,
   "metadata": {
    "id": "-d9KQHMr2tx8"
   },
   "outputs": [],
   "source": [
    "precision_top1 = precision_at_K(ua_ru_test, mapping.predict(X_test), 1)\n",
    "precision_top5 = precision_at_K(ua_ru_test, mapping.predict(X_test), 5)\n",
    "\n",
    "assert precision_top1 >= 0.635\n",
    "assert precision_top5 >= 0.813"
   ]
  },
  {
   "cell_type": "code",
   "execution_count": 94,
   "metadata": {},
   "outputs": [
    {
     "name": "stdout",
     "output_type": "stream",
     "text": [
      "precision_top1=0.6356589147286822, precision_top5=0.813953488372093\n"
     ]
    }
   ],
   "source": [
    "# Интересно все-же - какой он.. precision\n",
    "print(f'{precision_top1=}, {precision_top5=}')"
   ]
  },
  {
   "cell_type": "markdown",
   "metadata": {
    "id": "JNbDTP502urT"
   },
   "source": [
    "### Улучшаем маппинг\n",
    "\n",
    "Можно показать, что маппинг лучше строить ортогональным:\n",
    "$$W^*= \\arg\\min_W ||WX - Y||_F \\text{, где: } W^TW = I$$\n",
    "\n",
    "Искать его можно через SVD:\n",
    "$$X^TY=U\\Sigma V^T\\text{, singular value decompostion}$$\n",
    "\n",
    "$$W^*=UV^T$$\n",
    "\n",
    "**Задание** Реализуйте эту функцию."
   ]
  },
  {
   "cell_type": "code",
   "execution_count": 108,
   "metadata": {
    "id": "9de8XZ_F3v53"
   },
   "outputs": [],
   "source": [
    "def learn_transform(X_train, Y_train):\n",
    "    \"\"\" \n",
    "    :returns: W* : float matrix[emb_dim x emb_dim] as defined in formulae above\n",
    "    \"\"\"\n",
    "    \n",
    "    # Надеюсь это не чит - использовать np.linalg...\n",
    "    U, E, Vt = np.linalg.svd(X_train.T @ Y_train)\n",
    "    return U @ Vt"
   ]
  },
  {
   "cell_type": "code",
   "execution_count": 109,
   "metadata": {
    "id": "8WeCadzN382y"
   },
   "outputs": [],
   "source": [
    "W = learn_transform(X_train, Y_train)"
   ]
  },
  {
   "cell_type": "code",
   "execution_count": 110,
   "metadata": {
    "id": "p6qaMb0E3-f9"
   },
   "outputs": [
    {
     "data": {
      "text/plain": [
       "[('апрель', 0.823790967464447),\n",
       " ('сентябрь', 0.8049710988998413),\n",
       " ('март', 0.802565336227417),\n",
       " ('июнь', 0.8021842837333679),\n",
       " ('октябрь', 0.8001735210418701),\n",
       " ('ноябрь', 0.7934483289718628),\n",
       " ('февраль', 0.7914120554924011),\n",
       " ('июль', 0.790810763835907),\n",
       " ('август', 0.7891014814376831),\n",
       " ('декабрь', 0.7686372399330139)]"
      ]
     },
     "execution_count": 110,
     "metadata": {},
     "output_type": "execute_result"
    }
   ],
   "source": [
    "ru_emb.most_similar([ua_emb[\"серпень\"] @ W])"
   ]
  },
  {
   "cell_type": "code",
   "execution_count": 119,
   "metadata": {
    "id": "_Nn58crh4AH0"
   },
   "outputs": [
    {
     "name": "stdout",
     "output_type": "stream",
     "text": [
      "precision_top1=0.6537467700258398, precision_top5=0.8242894056847545\n"
     ]
    }
   ],
   "source": [
    "precision_top1 = precision_at_K(ua_ru_test, X_test @ W)\n",
    "precision_top5 = precision_at_K(ua_ru_test, X_test @ W, 5) \n",
    "print(f'{precision_top1=}, {precision_top5=}')"
   ]
  },
  {
   "cell_type": "code",
   "execution_count": 120,
   "metadata": {},
   "outputs": [],
   "source": [
    "assert precision_top1 >= 0.653\n",
    "assert precision_top5 >= 0.824"
   ]
  },
  {
   "cell_type": "code",
   "execution_count": 121,
   "metadata": {},
   "outputs": [],
   "source": [
    "# Формально - выиграли 1-2 процента.. Но реально - мало что поменялось для серпня ))"
   ]
  },
  {
   "cell_type": "markdown",
   "metadata": {
    "id": "lqgcYk-c4DE5"
   },
   "source": [
    "### Пишем переводчик"
   ]
  },
  {
   "cell_type": "markdown",
   "metadata": {
    "id": "hwi70fP6FaAN"
   },
   "source": [
    "Реализуем простой пословный переводчик - для каждого слова будем искать его ближайшего соседа в общем пространстве эмбеддингов. Если слова нет в эмбеддингах - просто копируем его."
   ]
  },
  {
   "cell_type": "code",
   "execution_count": 122,
   "metadata": {
    "id": "0etAHUks4JOr"
   },
   "outputs": [],
   "source": [
    "with open(\"fairy_tale.txt\", \"r\") as f:\n",
    "    ua_sentences = [line.rstrip().lower() for line in f]"
   ]
  },
  {
   "cell_type": "code",
   "execution_count": 141,
   "metadata": {
    "id": "JK_FJGmn4N7V"
   },
   "outputs": [],
   "source": [
    "def translate(sentence):\n",
    "    \"\"\"\n",
    "    :args:\n",
    "        sentence - sentence in Ukrainian (str)\n",
    "    :returns:\n",
    "        translation - sentence in Russian (str)\n",
    "\n",
    "    * find ukrainian embedding for each word in sentence\n",
    "    * transform ukrainian embedding vector\n",
    "    * find nearest russian word and replace\n",
    "    \"\"\"\n",
    "    return ' '.join([ru_emb.most_similar([ua_emb[token] @ W])[0][0] if token in ua_emb else token \\\n",
    "                    for token in sentence.split()])"
   ]
  },
  {
   "cell_type": "code",
   "execution_count": 142,
   "metadata": {
    "id": "H47pbFyk4P6D"
   },
   "outputs": [],
   "source": [
    "assert translate(\".\") == \".\"\n",
    "assert translate(\"1 , 3\") == \"1 , 3\"\n",
    "assert translate(\"кіт зловив мишу\") == \"кот поймал мышку\""
   ]
  },
  {
   "cell_type": "code",
   "execution_count": 143,
   "metadata": {},
   "outputs": [
    {
     "data": {
      "text/plain": [
       "'кот поймал мышку'"
      ]
     },
     "execution_count": 143,
     "metadata": {},
     "output_type": "execute_result"
    }
   ],
   "source": [
    "translate(\"кіт зловив мишу\")"
   ]
  },
  {
   "cell_type": "code",
   "execution_count": 145,
   "metadata": {
    "id": "PAVWK7mE4RYU"
   },
   "outputs": [
    {
     "name": "stdout",
     "output_type": "stream",
     "text": [
      "src: лисичка - сестричка і вовк - панібрат\n",
      "dst: лисичка – сестричка и волк – панібрат\n",
      "\n",
      "src: як була собі лисичка , да й пішла раз до однії баби добувать огню ; ввійшла у хату да й каже : \" добрий день тобі , бабусю !\n",
      "dst: как была себе лисичка , че и пошла раз к однії бабы добувать огня ; вошла во избу че и говорит : \" хороший день тебе , бабушку !\n",
      "\n",
      "src: дай мені огня \" .\n",
      "dst: дай мне огня \" .\n",
      "\n",
      "src: а баба тільки що вийняла із печі пирожок із маком , солодкий , да й положила , щоб він прохолов ; а лисичка се і підгледала , да тілько що баба нахилилась у піч , щоб достать огня , то лисичка зараз ухватила пирожок да і драла з хати , да , біжучи , весь мак із його виїла , а туда сміття наклала .\n",
      "dst: а бабка только что вынула со печи пирожок со маком , сладкий , че и согнула , чтобы он прохолов ; а лисичка ой и підгледала , че токмо что бабка качнулась во печь , чтобы достать огня , то лисичка сейчас ухватила пирожок че и деру со хаты , че , пробежать , весь мак со его виїла , а туда мусора наложила .\n",
      "\n",
      "src: прибігла на поле , аж там пасуть хлопці бичків .\n",
      "dst: прибежала по поле , аж там пасут парни бычков .\n",
      "\n",
      "src: вона і каже їм : \" ей , хлопці !\n",
      "dst: она и говорит им : \" ой , парни !\n",
      "\n",
      "src: проміняйте мені бичка - третячка за маковий пирожок \" .\n",
      "dst: проміняйте мне бычка – третячка за маковый пирожок \" .\n",
      "\n",
      "src: тії согласились ; так вона їм говорить : \" смотріть же , ви не їжте зараз сього пирожка , а тоді уже розломите , як я заведу бичка за могилку ; а то ви його ні за що не розломите \" .\n",
      "dst: ишо поглумиться ; так она им говорит : \" смотріть то , мы не ешьте сейчас сего пирожка , а тогда уже розломите , как мной заведу бычка за могилу ; а то мы его ни за что не розломите \" .\n",
      "\n",
      "src: бачите вже - лисичка таки собі була розумна , що хоть кого да обманить .\n",
      "dst: вижу уже – лисичка таки себе была умная , что хоть кого че обманить .\n",
      "\n",
      "src: тії хлопці так і зробили , а лисичка як зайшла за могилу , да зараз у ліс і повернула , щоб на дорозі не догнали ; прийшла у ліс да і зробила собі санки да й їде .\n",
      "dst: ишо парни так и сделали , а лисичка как зашла за могилу , че сейчас во лес и вернула , чтобы по дороге не погнали ; пришла во лес че и сделала себе санки че и едет .\n",
      "\n",
      "src: коли йде вовчик : \" здорова була , лисичко - сестричко ! \"\n",
      "dst: когда идет вовчик : \" здоровая была , лисичко – сестричка ! \"\n",
      "\n",
      "src: - \" здоров , вовчику - братику ! \"\n",
      "dst: – \" здоровье , вовчику – братику ! \"\n",
      "\n",
      "src: - \" де се ти узяла собі і бичка і санки ? \"\n",
      "dst: – \" куда ой ты взяла себе и бычка и санки ? \"\n",
      "\n",
      "src: - \" е !\n",
      "dst: – \" ьн !\n",
      "\n",
      "src: зробила \" .\n",
      "dst: сделала \" .\n",
      "\n",
      "src: - \" підвези ж і мене \" .\n",
      "dst: – \" підвези же и меня \" .\n",
      "\n",
      "src: - \" е , вовчику !\n",
      "dst: – \" ьн , вовчику !\n",
      "\n",
      "src: не можна \" .\n",
      "dst: не можно \" .\n",
      "\n",
      "src: - \" мені хоть одну ніжку \" .\n",
      "dst: – \" мне хоть одну ножку \" .\n",
      "\n",
      "src: - \" одну можна \" .\n",
      "dst: – \" одну можно \" .\n",
      "\n",
      "src: він і положив , да од'їхавши немного і просить , щоби іще одну положить .\n",
      "dst: он и положил , че од'їхавши конешно и просит , чтобы еще одну возмет .\n",
      "\n",
      "src: \" не можна , братику !\n",
      "dst: \" не можно , братику !\n",
      "\n",
      "src: боюсь , щоб ти саней не зламав \" .\n",
      "dst: боюсь , чтобы ты саней не сломал \" .\n",
      "\n",
      "src: - \" ні , сестричко , не бійся ! \"\n",
      "dst: – \" ни , сестричка , не бойся ! \"\n",
      "\n",
      "src: - да і положив другую ніжку .\n",
      "dst: – че и положил одну ножку .\n",
      "\n",
      "src: тілько що од'їхали , як щось і тріснуло .\n",
      "dst: токмо что од'їхали , как что-то и треснуло .\n",
      "\n",
      "src: \" бачиш , вовчику , уже і ламаєш санки \" .\n",
      "dst: \" видишь , вовчику , уже и ламаєш санки \" .\n",
      "\n",
      "src: - \" ні , лисичко !\n",
      "dst: – \" ни , лисичко !\n",
      "\n",
      "src: се у мене був орішок , так я розкусив \" .\n",
      "dst: ой во меня был орішок , так мной розкусив \" .\n",
      "\n",
      "src: да просить оп'ять , щоб і третю ногу положить ; лисичка і ту пустила , да тілько що оп'ять од'їхали , аж щось уже дужче тріснуло .\n",
      "dst: че просит оп'ять , чтобы и третью ногу возмет ; лисичка и ту пустила , че токмо что оп'ять од'їхали , аж что-то уже сильней треснуло .\n",
      "\n",
      "src: лисичка закричала : \" ох , лишечко !\n",
      "dst: лисичка закричала : \" ой , лишечко !\n",
      "\n",
      "src: ти ж мені , братику , зовсім зламаєш санки \" .\n",
      "dst: ты же мне , братику , совсем зламаєш санки \" .\n",
      "\n",
      "src: - \" ні , лисичко , се я орішок розкусив \" .\n",
      "dst: – \" ни , лисичко , ой мной орішок розкусив \" .\n",
      "\n",
      "src: - \" дай же і мені , бачиш який , що сам їж , а мені і не даєш \" .\n",
      "dst: – \" дай то и мне , видишь который , что сам ел , а мне и не даешь \" .\n",
      "\n",
      "src: - \" нема уже більше , а я б дав \" .\n",
      "dst: – \" нету уже больше , а мной бы дал \" .\n",
      "\n",
      "src: да і просить оп'ять , щоб пустила положить і послідню ногу .\n",
      "dst: че и просит оп'ять , чтобы пустила возмет и послідню ногу .\n",
      "\n",
      "src: лисичка і согласилась .\n",
      "dst: лисичка и согласилась .\n",
      "\n",
      "src: так він тілько що положив ногу , як санки зовсім розламались .\n",
      "dst: так он токмо что положил ногу , как санки совсем розламались .\n",
      "\n",
      "src: тоді вже лисичка так на його розсердилась , що і сама не знала щоб робила !\n",
      "dst: тогда уже лисичка так по его розсердилась , что и сама не знала чтобы делала !\n",
      "\n",
      "src: а як отошло серце , вона і каже : \" іди ж , ледащо !\n",
      "dst: а как отошло сердце , она и говорит : \" иди же , лодырь !\n",
      "\n",
      "src: да нарубай дерева , щоб нам оп'ять ізробить санки ; тільки рубавши кажи так : \" рубайся ж , дерево , і криве і пряме \" .\n",
      "dst: че нарубай деревья , чтобы нам оп'ять ізробить санки ; только рубавши говори так : \" рубайся же , дерево , и кривое и прямое \" .\n",
      "\n",
      "src: він і пішов да й каже усе : \" рубайся ж , дерево , усе пряме да пряме ! \"\n",
      "dst: он и пошел че и говорит всё : \" рубайся же , дерево , всё прямое че прямое ! \"\n",
      "\n",
      "src: нарубавши і приносить ; лисичка увидала , що дерево не таке , як їй нужно , оп'ять розсердилась .\n",
      "dst: нарубавши и приносит ; лисичка увидала , что дерево не такое , как им надо , оп'ять розсердилась .\n",
      "\n",
      "src: \" ти , - говорить , - не казав , видно , так , як я тобі веліла ! \"\n",
      "dst: \" ты , – говорит , – не говорил , видно , так , как мной тебе велела ! \"\n",
      "\n",
      "src: - \" ні , я усе теє казав , що ти мені казала \" .\n",
      "dst: – \" ни , мной всё Эх говорил , что ты мне говорила \" .\n",
      "\n",
      "src: - \" да чомусь не таке рубалось ?\n",
      "dst: – \" че почему-то не такое рубалось ?\n",
      "\n",
      "src: ну , сиди ж ти тут , а я сама піду нарубаю \" , - да і пішла у ліс .\n",
      "dst: ну , сиди же ты здесь , а мной сама пойду нарубаю \" , – че и пошла во лес .\n",
      "\n",
      "src: а вовк дивиться , що він сам остався ; узяв да проїв у бичка дірку да виїв усе в середині , а напускав туда горобців да ще соломою заткнув , поставив бичка , а сам і втік .\n",
      "dst: а волк смотрит , что он сам остался ; взял че проїв во бычка дыру че виїв всё во середине , а напускав туда воробьёв че ещe соломой заткнул , поставил бычка , а сам и сбежал .\n",
      "\n",
      "src: аж лисичка приходить , зробила санки да й сіла і стала поганять : \" гей , бичок - третячок ! \"\n",
      "dst: аж лисичка приходит , сделала санки че и присела и стала поганять : \" гей , бычок – третячок ! \"\n",
      "\n",
      "src: тілько він не везе .\n",
      "dst: токмо он не увозит .\n",
      "\n",
      "src: от вона встала , щоб поправить : може , що не так запряжено ; да , не хотячи , одоткнула солому , а оттуда так і сипнули горобці летіти .\n",
      "dst: из она встала , чтобы поправит : может , что не так запряжено ; че , не вздумал , одоткнула солому , а туды так и сипнули воробьи лететь .\n",
      "\n",
      "src: вона уже тоді побачила , що бичок неживий ; покинула його да й пішла .\n",
      "dst: она уже тогда увидела , что бычок неживой ; покинула его че и пошла .\n",
      "\n",
      "src: легла на дорозі , аж дивиться - їде мужик з рибою ; вона і притворилась , що здохла .\n",
      "dst: легла по дороге , аж смотрит – едет мужик со рыбой ; она и притворилась , что сдохла .\n",
      "\n",
      "src: от мужик і говорить : \" возьму я оцю лисицю , обдеру да хоть шапку собі зошью \" .\n",
      "dst: из мужик и говорит : \" возьму мной ихнюю лисицу , обдеру че хоть шапку себе зошью \" .\n",
      "\n",
      "src: узяв да і положив ззаді у воза .\n",
      "dst: взял че и положил взади во телега .\n",
      "\n",
      "src: вона замітила , що мужик не смотрить , стала ногами викидувать рибу з воза , а когда побачила , що навикидала уже багато , тоди потихесеньку і сама злізла ; сіла біля риби да і їсть собі , - коли біжить оп'ять той самий вовчик .\n",
      "dst: она заметила , что мужик не смотрить , стала ногами викидувать рыбу со телега , а .когда увидела , что навикидала уже много , тоды потихесеньку и сама слезла ; присела возле рыбы че и ест себе , – когда бежит оп'ять тот самый вовчик .\n",
      "\n",
      "src: побачивши , що вона їсть рибу , прибіг до їй да й каже : \" здорово була , лисичко - сестричко !\n",
      "dst: увидев , что она ест рыбу , прибежал к им че и говорит : \" здорово была , лисичко – сестричка !\n",
      "\n"
     ]
    },
    {
     "name": "stdout",
     "output_type": "stream",
     "text": [
      "src: де се ти набрала стільки риби ? \"\n",
      "dst: куда ой ты набрала столько рыбы ? \"\n",
      "\n",
      "src: вона каже : \" наловила , вовчику - братику ! \"\n",
      "dst: она говорит : \" наловила , вовчику – братику ! \"\n",
      "\n",
      "src: а собі на думці : \" подожди , і я зроблю з тобою таку штуку , як і ти зо мною \" .\n",
      "dst: а себе по мнении : \" подожди , и мной сделаю со тобой такую штуку , как и ты За мной \" .\n",
      "\n",
      "src: - \" як же ти ловила ? \"\n",
      "dst: – \" как то ты ловила ? \"\n",
      "\n",
      "src: - \" так , вовчику , уложила хвостик в ополонку , вожу тихенько да й кажу ; ловися , рибка , мала і велика !\n",
      "dst: – \" так , вовчику , уложила хвостик во прорубь , вожу тихонько че и говорю ; ловися , рыбка , имела и большая !\n",
      "\n",
      "src: коли хочеш , то і ти піди , налови собі \" .\n",
      "dst: когда хочешь , то и ты пойди , налови себе \" .\n",
      "\n",
      "src: він побіг да зробив так , як казала лисичка .\n",
      "dst: он побежал че сделал так , как говорила лисичка .\n",
      "\n",
      "src: а лисичка стала за деревом да й дивиться ; коли у вовчика зовсім хвостик примерз , вона тоді побігла в село да й кричить : \" ідіть , люди , вбивайте вовка ! \"\n",
      "dst: а лисичка стала за деревом че и смотрит ; когда во вовчика совсем хвостик примерз , она тогда побежала во село че и кричит : \" идите , люди , убивайте волка ! \"\n",
      "\n",
      "src: люди набігли з кольями да і убили його .\n",
      "dst: люди полезли со кольями че и убили его .\n",
      "\n",
      "src: \n",
      "dst: \n",
      "\n"
     ]
    }
   ],
   "source": [
    "for sentence in ua_sentences:\n",
    "    print(f'src: {sentence}\\ndst: {translate(sentence)}\\n')"
   ]
  },
  {
   "cell_type": "code",
   "execution_count": 146,
   "metadata": {},
   "outputs": [],
   "source": [
    "# Нуу... такое..\n",
    "# Видали переводы и получше ))\n",
    "# Самое сложное в этом задании был квест - с GoogleDrive скачать эти векторные эмбеддинги от фасттекста..\n",
    "# Все эти танцы с бубном с созданием приложения, добавлением API google drive, генерация ключей и тп. )))\n",
    "# Неожиданное развлечение изза того, что делал в локальном ноутбуке )"
   ]
  },
  {
   "cell_type": "markdown",
   "metadata": {
    "id": "_5GrChTeFqIg"
   },
   "source": [
    "# Дополнительные материалы"
   ]
  },
  {
   "cell_type": "markdown",
   "metadata": {
    "id": "HwffxpbmFwDh"
   },
   "source": [
    "## Почитать\n",
    "### База:  \n",
    "[On word embeddings - Part 1, Sebastian Ruder](http://ruder.io/word-embeddings-1/)  \n",
    "[Deep Learning, NLP, and Representations, Christopher Olah](http://colah.github.io/posts/2014-07-NLP-RNNs-Representations/)  \n",
    "\n",
    "### Как кластеризовать смыслы многозначных слов:  \n",
    "[Making Sense of Word Embeddings (2016), Pelevina et al](http://anthology.aclweb.org/W16-1620)    \n",
    "\n",
    "### Как оценивать эмбеддинги\n",
    "[Evaluation methods for unsupervised word embeddings (2015), T. Schnabel](http://www.aclweb.org/anthology/D15-1036)  \n",
    "[Intrinsic Evaluation of Word Vectors Fails to Predict Extrinsic Performance (2016), B. Chiu](https://www.aclweb.org/anthology/W/W16/W16-2501.pdf)  \n",
    "[Problems With Evaluation of Word Embeddings Using Word Similarity Tasks (2016), M. Faruqui](https://arxiv.org/pdf/1605.02276.pdf)  \n",
    "[Improving Reliability of Word Similarity Evaluation by Redesigning Annotation Task and Performance Measure (2016), Oded Avraham, Yoav Goldberg](https://arxiv.org/pdf/1611.03641.pdf)  \n",
    "[Evaluating Word Embeddings Using a Representative Suite of Practical Tasks (2016), N. Nayak](https://cs.stanford.edu/~angeli/papers/2016-acl-veceval.pdf)  \n",
    "\n",
    "\n",
    "## Посмотреть\n",
    "[Word Vector Representations: word2vec, Lecture 2, cs224n](https://www.youtube.com/watch?v=ERibwqs9p38)"
   ]
  }
 ],
 "metadata": {
  "colab": {
   "collapsed_sections": [],
   "name": "HW-3-colab.ipynb",
   "provenance": [
    {
     "file_id": "1o65wrq6RYgWyyMvNP8r9ZknXBniDoXrn",
     "timestamp": 1617176736329
    }
   ]
  },
  "kernelspec": {
   "display_name": "Python 3",
   "language": "python",
   "name": "python3"
  },
  "language_info": {
   "codemirror_mode": {
    "name": "ipython",
    "version": 3
   },
   "file_extension": ".py",
   "mimetype": "text/x-python",
   "name": "python",
   "nbconvert_exporter": "python",
   "pygments_lexer": "ipython3",
   "version": "3.8.5"
  }
 },
 "nbformat": 4,
 "nbformat_minor": 1
}
